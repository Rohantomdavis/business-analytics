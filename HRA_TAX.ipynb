{
  "nbformat": 4,
  "nbformat_minor": 0,
  "metadata": {
    "colab": {
      "name": "HRA TAX.ipynb",
      "provenance": []
    },
    "kernelspec": {
      "name": "python3",
      "display_name": "Python 3"
    },
    "language_info": {
      "name": "python"
    }
  },
  "cells": [
    {
      "cell_type": "code",
      "execution_count": 7,
      "metadata": {
        "colab": {
          "base_uri": "https://localhost:8080/"
        },
        "id": "QA0wshbBRIwD",
        "outputId": "ba54cc68-90c2-492d-b482-ba55c94f1a72"
      },
      "outputs": [
        {
          "output_type": "stream",
          "name": "stdout",
          "text": [
            "Enter your basic salary :300000\n",
            "Enter your house rent allowance :310000\n",
            "Enter special allowance :1540\n",
            "Enter travel allowance :1250\n",
            "2500.0 tax payable amount\n",
            "31000.0 hra tax\n"
          ]
        }
      ],
      "source": [
        "import matplotlib.pyplot as plt\n",
        "import numpy as np\n",
        "bs=int(input(\"Enter your basic salary :\"))\n",
        "hra=int(input(\"Enter your house rent allowance :\"))\n",
        "sa=int(input(\"Enter special allowance :\"))\n",
        "lta=int(input(\"Enter travel allowance :\"))\n",
        "t1=(bs-250000)*5/100\n",
        "t2=(bs-500000)*10/100+250000*5/100\n",
        "i1=(bs-750000)*20/100+500000*10/100+250000*5/100\n",
        "g1=(bs-1000000)*30/100+bs-750000*20/100+500000*10/100+250000*5/100\n",
        "if bs<250000:\n",
        "  print(\"no tax\")\n",
        "elif bs>250001 and bs<500000:\n",
        "  tax=t1\n",
        "  print(tax,(\"tax payable amount\"))\n",
        "elif bs>500001 and bs>750000:\n",
        "  t=t1+t2\n",
        "  print(t,('tax payable amount'))\n",
        "elif bs>750001 and bs>1000000:\n",
        "  i=t1+t2+i1\n",
        "  print(i,(\"tax payable amount\"))\n",
        "else: \n",
        "    g=g1+t1+t2+i1\n",
        "    print(g,(\"tax payable amount\"))\n",
        "if hra>bs:\n",
        "  t3=hra*10/100\n",
        "  print(t3,(\"hra tax\"))"
      ]
    },
    {
      "cell_type": "code",
      "source": [
        "\n"
      ],
      "metadata": {
        "id": "zRzrnKBgjy3f"
      },
      "execution_count": null,
      "outputs": []
    }
  ]
}